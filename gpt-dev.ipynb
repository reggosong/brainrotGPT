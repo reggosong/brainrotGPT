{
 "cells": [
  {
   "cell_type": "markdown",
   "id": "bd6932ab",
   "metadata": {},
   "source": [
    "https://raw.githubusercontent.com/reggosong/brainrotgpt/main/brainrot_dataset.txt"
   ]
  },
  {
   "cell_type": "markdown",
   "id": "e7e24e39",
   "metadata": {},
   "source": []
  }
 ],
 "metadata": {
  "language_info": {
   "name": "python"
  }
 },
 "nbformat": 4,
 "nbformat_minor": 5
}
